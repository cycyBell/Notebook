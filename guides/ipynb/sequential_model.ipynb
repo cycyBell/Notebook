{
  "cells": [
    {
      "cell_type": "markdown",
      "metadata": {
        "id": "view-in-github",
        "colab_type": "text"
      },
      "source": [
        "<a href=\"https://colab.research.google.com/github/cycyBell/Notebook/blob/master/guides/ipynb/sequential_model.ipynb\" target=\"_parent\"><img src=\"https://colab.research.google.com/assets/colab-badge.svg\" alt=\"Open In Colab\"/></a>"
      ]
    },
    {
      "cell_type": "markdown",
      "metadata": {
        "id": "AtP5fz5dgbE7"
      },
      "source": [
        "# The Sequential model\n",
        "\n",
        "**Author:** [fchollet](https://twitter.com/fchollet)<br>\n",
        "**Date created:** 2020/04/12<br>\n",
        "**Last modified:** 2023/06/25<br>\n",
        "**Description:** Complete guide to the Sequential model."
      ]
    },
    {
      "cell_type": "markdown",
      "metadata": {
        "id": "hYWgjqzqgbFL"
      },
      "source": [
        "## Setup"
      ]
    },
    {
      "cell_type": "code",
      "execution_count": 1,
      "metadata": {
        "id": "Xq_T8fAagbFP"
      },
      "outputs": [],
      "source": [
        "import keras\n",
        "from keras import layers\n",
        "from keras import ops"
      ]
    },
    {
      "cell_type": "markdown",
      "metadata": {
        "id": "CSD0073HgbFu"
      },
      "source": [
        "## When to use a Sequential model\n",
        "\n",
        "A `Sequential` model is appropriate for **a plain stack of layers**\n",
        "where each layer has **exactly one input tensor and one output tensor**.\n",
        "\n",
        "Schematically, the following `Sequential` model:"
      ]
    },
    {
      "cell_type": "code",
      "execution_count": null,
      "metadata": {
        "id": "uprPSQYugbL8"
      },
      "outputs": [],
      "source": [
        "# Define Sequential model with 3 layers\n",
        "model = keras.Sequential(\n",
        "    [\n",
        "        layers.Dense(2, activation=\"relu\", name=\"layer1\"),\n",
        "        layers.Dense(3, activation=\"relu\", name=\"layer2\"),\n",
        "        layers.Dense(4, name=\"layer3\"),\n",
        "    ]\n",
        ")\n",
        "# Call model on a test input\n",
        "x = ops.ones((3, 3))\n",
        "y = model(x)"
      ]
    },
    {
      "cell_type": "markdown",
      "metadata": {
        "id": "fgMGB8JkgbMB"
      },
      "source": [
        "is equivalent to this function:"
      ]
    },
    {
      "cell_type": "code",
      "execution_count": null,
      "metadata": {
        "id": "5us2n0-WgbMD"
      },
      "outputs": [],
      "source": [
        "# Create 3 layers\n",
        "layer1 = layers.Dense(2, activation=\"relu\", name=\"layer1\")\n",
        "layer2 = layers.Dense(3, activation=\"relu\", name=\"layer2\")\n",
        "layer3 = layers.Dense(4, name=\"layer3\")\n",
        "\n",
        "# Call layers on a test input\n",
        "x = ops.ones((3, 3))\n",
        "y = layer3(layer2(layer1(x)))"
      ]
    },
    {
      "cell_type": "markdown",
      "metadata": {
        "id": "HMF9t5xlgbMX"
      },
      "source": [
        "A Sequential model is **not appropriate** when:\n",
        "\n",
        "- Your model has multiple inputs or multiple outputs\n",
        "- Any of your layers has multiple inputs or multiple outputs\n",
        "- You need to do layer sharing\n",
        "- You want non-linear topology (e.g. a residual connection, a multi-branch\n",
        "model)"
      ]
    },
    {
      "cell_type": "markdown",
      "metadata": {
        "id": "Jp3nuh1GgbMe"
      },
      "source": [
        "## Creating a Sequential model\n",
        "\n",
        "You can create a Sequential model by passing a list of layers to the Sequential\n",
        "constructor:"
      ]
    },
    {
      "cell_type": "code",
      "execution_count": null,
      "metadata": {
        "id": "GZaV_eIUgbMf"
      },
      "outputs": [],
      "source": [
        "model = keras.Sequential(\n",
        "    [\n",
        "        layers.Dense(2, activation=\"relu\"),\n",
        "        layers.Dense(3, activation=\"relu\"),\n",
        "        layers.Dense(4),\n",
        "    ]\n",
        ")"
      ]
    },
    {
      "cell_type": "markdown",
      "metadata": {
        "id": "qj06MoxYgbMh"
      },
      "source": [
        "Its layers are accessible via the `layers` attribute:"
      ]
    },
    {
      "cell_type": "code",
      "execution_count": null,
      "metadata": {
        "id": "btTkbadLgbMi"
      },
      "outputs": [],
      "source": [
        "model.layers"
      ]
    },
    {
      "cell_type": "markdown",
      "metadata": {
        "id": "1OAZANwIgbMk"
      },
      "source": [
        "You can also create a Sequential model incrementally via the `add()` method:"
      ]
    },
    {
      "cell_type": "code",
      "execution_count": null,
      "metadata": {
        "id": "HLjBCmU8gbMq"
      },
      "outputs": [],
      "source": [
        "model = keras.Sequential()\n",
        "model.add(layers.Dense(2, activation=\"relu\"))\n",
        "model.add(layers.Dense(3, activation=\"relu\"))\n",
        "model.add(layers.Dense(4))"
      ]
    },
    {
      "cell_type": "markdown",
      "metadata": {
        "id": "wNU1jmh4gbMs"
      },
      "source": [
        "Note that there's also a corresponding `pop()` method to remove layers:\n",
        "a Sequential model behaves very much like a list of layers."
      ]
    },
    {
      "cell_type": "code",
      "execution_count": null,
      "metadata": {
        "id": "czXuL597gbMs"
      },
      "outputs": [],
      "source": [
        "model.pop()\n",
        "print(len(model.layers))  # 2"
      ]
    },
    {
      "cell_type": "markdown",
      "metadata": {
        "id": "6RxPXrR7gbMt"
      },
      "source": [
        "Also note that the Sequential constructor accepts a `name` argument, just like\n",
        "any layer or model in Keras. This is useful to annotate TensorBoard graphs\n",
        "with semantically meaningful names."
      ]
    },
    {
      "cell_type": "code",
      "execution_count": null,
      "metadata": {
        "id": "L0MInB6ngbMu"
      },
      "outputs": [],
      "source": [
        "model = keras.Sequential(name=\"my_sequential\")\n",
        "model.add(layers.Dense(2, activation=\"relu\", name=\"layer1\"))\n",
        "model.add(layers.Dense(3, activation=\"relu\", name=\"layer2\"))\n",
        "model.add(layers.Dense(4, name=\"layer3\"))"
      ]
    },
    {
      "cell_type": "markdown",
      "metadata": {
        "id": "8uCKrgPhgbMv"
      },
      "source": [
        "## Specifying the input shape in advance\n",
        "\n",
        "Generally, all layers in Keras need to know the shape of their inputs\n",
        "in order to be able to create their weights. So when you create a layer like\n",
        "this, initially, it has no weights:"
      ]
    },
    {
      "cell_type": "code",
      "execution_count": null,
      "metadata": {
        "id": "gJxZh-p8gbMv"
      },
      "outputs": [],
      "source": [
        "layer = layers.Dense(3)\n",
        "layer.weights  # Empty"
      ]
    },
    {
      "cell_type": "markdown",
      "metadata": {
        "id": "CREfdKKPgbMx"
      },
      "source": [
        "It creates its weights the first time it is called on an input, since the shape\n",
        "of the weights depends on the shape of the inputs:"
      ]
    },
    {
      "cell_type": "code",
      "execution_count": null,
      "metadata": {
        "id": "UcpkARujgbMz"
      },
      "outputs": [],
      "source": [
        "# Call layer on a test input\n",
        "x = ops.ones((1, 4))\n",
        "y = layer(x)\n",
        "layer.weights  # Now it has weights, of shape (4, 3) and (3,)"
      ]
    },
    {
      "cell_type": "markdown",
      "metadata": {
        "id": "q6XShy84gbM0"
      },
      "source": [
        "Naturally, this also applies to Sequential models. When you instantiate a\n",
        "Sequential model without an input shape, it isn't \"built\": it has no weights\n",
        "(and calling\n",
        "`model.weights` results in an error stating just this). The weights are created\n",
        "when the model first sees some input data:"
      ]
    },
    {
      "cell_type": "code",
      "execution_count": null,
      "metadata": {
        "id": "B93XO9WFgbM1"
      },
      "outputs": [],
      "source": [
        "model = keras.Sequential(\n",
        "    [\n",
        "        layers.Dense(2, activation=\"relu\"),\n",
        "        layers.Dense(3, activation=\"relu\"),\n",
        "        layers.Dense(4),\n",
        "    ]\n",
        ")  # No weights at this stage!\n",
        "\n",
        "# At this point, you can't do this:\n",
        "# model.weights\n",
        "\n",
        "# You also can't do this:\n",
        "# model.summary()\n",
        "\n",
        "# Call the model on a test input\n",
        "x = ops.ones((1, 4))\n",
        "y = model(x)\n",
        "print(\"Number of weights after calling the model:\", len(model.weights))  # 6"
      ]
    },
    {
      "cell_type": "markdown",
      "metadata": {
        "id": "qqqZ1HdZgbM2"
      },
      "source": [
        "Once a model is \"built\", you can call its `summary()` method to display its\n",
        "contents:"
      ]
    },
    {
      "cell_type": "code",
      "execution_count": null,
      "metadata": {
        "id": "dLTySc1EgbM4"
      },
      "outputs": [],
      "source": [
        "model.summary()"
      ]
    },
    {
      "cell_type": "markdown",
      "metadata": {
        "id": "vyde52cfgbM5"
      },
      "source": [
        "However, it can be very useful when building a Sequential model incrementally\n",
        "to be able to display the summary of the model so far, including the current\n",
        "output shape. In this case, you should start your model by passing an `Input`\n",
        "object to your model, so that it knows its input shape from the start:"
      ]
    },
    {
      "cell_type": "code",
      "execution_count": null,
      "metadata": {
        "id": "_R8RENo5gbM6"
      },
      "outputs": [],
      "source": [
        "model = keras.Sequential()\n",
        "model.add(keras.Input(shape=(4,)))\n",
        "model.add(layers.Dense(2, activation=\"relu\"))\n",
        "\n",
        "model.summary()"
      ]
    },
    {
      "cell_type": "markdown",
      "metadata": {
        "id": "Xutk5n4dgbM8"
      },
      "source": [
        "Note that the `Input` object is not displayed as part of `model.layers`, since\n",
        "it isn't a layer:"
      ]
    },
    {
      "cell_type": "code",
      "execution_count": null,
      "metadata": {
        "id": "oNk7bz7OgbM8"
      },
      "outputs": [],
      "source": [
        "model.layers"
      ]
    },
    {
      "cell_type": "markdown",
      "metadata": {
        "id": "qMqKcHBBgbM9"
      },
      "source": [
        "Models built with a predefined input shape like this always have weights (even\n",
        "before seeing any data) and always have a defined output shape.\n",
        "\n",
        "In general, it's a recommended best practice to always specify the input shape\n",
        "of a Sequential model in advance if you know what it is."
      ]
    },
    {
      "cell_type": "markdown",
      "metadata": {
        "id": "X2OJYKGxgbM9"
      },
      "source": [
        "## A common debugging workflow: `add()` + `summary()`\n",
        "\n",
        "When building a new Sequential architecture, it's useful to incrementally stack\n",
        "layers with `add()` and frequently print model summaries. For instance, this\n",
        "enables you to monitor how a stack of `Conv2D` and `MaxPooling2D` layers is\n",
        "downsampling image feature maps:"
      ]
    },
    {
      "cell_type": "code",
      "execution_count": null,
      "metadata": {
        "id": "pMgWGDyDgbM_"
      },
      "outputs": [],
      "source": [
        "model = keras.Sequential()\n",
        "model.add(keras.Input(shape=(250, 250, 3)))  # 250x250 RGB images\n",
        "model.add(layers.Conv2D(32, 5, strides=2, activation=\"relu\"))\n",
        "model.add(layers.Conv2D(32, 3, activation=\"relu\"))\n",
        "model.add(layers.MaxPooling2D(3))\n",
        "\n",
        "# Can you guess what the current output shape is at this point? Probably not.\n",
        "# Let's just print it:\n",
        "model.summary()\n",
        "\n",
        "# The answer was: (40, 40, 32), so we can keep downsampling...\n",
        "\n",
        "model.add(layers.Conv2D(32, 3, activation=\"relu\"))\n",
        "model.add(layers.Conv2D(32, 3, activation=\"relu\"))\n",
        "model.add(layers.MaxPooling2D(3))\n",
        "model.add(layers.Conv2D(32, 3, activation=\"relu\"))\n",
        "model.add(layers.Conv2D(32, 3, activation=\"relu\"))\n",
        "model.add(layers.MaxPooling2D(2))\n",
        "\n",
        "# And now?\n",
        "model.summary()\n",
        "\n",
        "# Now that we have 4x4 feature maps, time to apply global max pooling.\n",
        "model.add(layers.GlobalMaxPooling2D())\n",
        "\n",
        "# Finally, we add a classification layer.\n",
        "model.add(layers.Dense(10))"
      ]
    },
    {
      "cell_type": "markdown",
      "metadata": {
        "id": "ZR6e6_dFgbNB"
      },
      "source": [
        "Very practical, right?\n"
      ]
    },
    {
      "cell_type": "markdown",
      "metadata": {
        "id": "fEy5gIfRgbNB"
      },
      "source": [
        "## What to do once you have a model\n",
        "\n",
        "Once your model architecture is ready, you will want to:\n",
        "\n",
        "- Train your model, evaluate it, and run inference. See our\n",
        "[guide to training & evaluation with the built-in loops](\n",
        "    /guides/training_with_built_in_methods/)\n",
        "- Save your model to disk and restore it. See our\n",
        "[guide to serialization & saving](/guides/serialization_and_saving/)."
      ]
    },
    {
      "cell_type": "markdown",
      "metadata": {
        "id": "R1Pz5MqcgbNC"
      },
      "source": [
        "## Feature extraction with a Sequential model\n",
        "\n",
        "Once a Sequential model has been built, it behaves like a\n",
        "[Functional API model](/guides/functional_api/).\n",
        "This means that every layer has an `input`\n",
        "and `output` attribute. These attributes can be used to do neat things, like\n",
        "quickly creating a model that extracts the outputs of all intermediate layers in a\n",
        "Sequential model:"
      ]
    },
    {
      "cell_type": "code",
      "execution_count": 6,
      "metadata": {
        "id": "j7YPQ0LcgbND",
        "outputId": "750d156d-58ac-489b-b8d3-0d25ebb4f7d6",
        "colab": {
          "base_uri": "https://localhost:8080/"
        }
      },
      "outputs": [
        {
          "output_type": "execute_result",
          "data": {
            "text/plain": [
              "[<tf.Tensor: shape=(1, 123, 123, 32), dtype=float32, numpy=\n",
              " array([[[[0.        , 0.10955913, 0.34219256, ..., 0.        ,\n",
              "           0.        , 0.        ],\n",
              "          [0.        , 0.10955913, 0.34219256, ..., 0.        ,\n",
              "           0.        , 0.        ],\n",
              "          [0.        , 0.10955913, 0.34219256, ..., 0.        ,\n",
              "           0.        , 0.        ],\n",
              "          ...,\n",
              "          [0.        , 0.10955913, 0.34219256, ..., 0.        ,\n",
              "           0.        , 0.        ],\n",
              "          [0.        , 0.10955913, 0.34219256, ..., 0.        ,\n",
              "           0.        , 0.        ],\n",
              "          [0.        , 0.10955913, 0.34219256, ..., 0.        ,\n",
              "           0.        , 0.        ]],\n",
              " \n",
              "         [[0.        , 0.10955913, 0.34219256, ..., 0.        ,\n",
              "           0.        , 0.        ],\n",
              "          [0.        , 0.10955913, 0.34219256, ..., 0.        ,\n",
              "           0.        , 0.        ],\n",
              "          [0.        , 0.10955913, 0.34219256, ..., 0.        ,\n",
              "           0.        , 0.        ],\n",
              "          ...,\n",
              "          [0.        , 0.10955913, 0.34219256, ..., 0.        ,\n",
              "           0.        , 0.        ],\n",
              "          [0.        , 0.10955913, 0.34219256, ..., 0.        ,\n",
              "           0.        , 0.        ],\n",
              "          [0.        , 0.10955913, 0.34219256, ..., 0.        ,\n",
              "           0.        , 0.        ]],\n",
              " \n",
              "         [[0.        , 0.10955913, 0.34219256, ..., 0.        ,\n",
              "           0.        , 0.        ],\n",
              "          [0.        , 0.10955913, 0.34219256, ..., 0.        ,\n",
              "           0.        , 0.        ],\n",
              "          [0.        , 0.10955913, 0.34219256, ..., 0.        ,\n",
              "           0.        , 0.        ],\n",
              "          ...,\n",
              "          [0.        , 0.10955913, 0.34219256, ..., 0.        ,\n",
              "           0.        , 0.        ],\n",
              "          [0.        , 0.10955913, 0.34219256, ..., 0.        ,\n",
              "           0.        , 0.        ],\n",
              "          [0.        , 0.10955913, 0.34219256, ..., 0.        ,\n",
              "           0.        , 0.        ]],\n",
              " \n",
              "         ...,\n",
              " \n",
              "         [[0.        , 0.10955913, 0.34219256, ..., 0.        ,\n",
              "           0.        , 0.        ],\n",
              "          [0.        , 0.10955913, 0.34219256, ..., 0.        ,\n",
              "           0.        , 0.        ],\n",
              "          [0.        , 0.10955913, 0.34219256, ..., 0.        ,\n",
              "           0.        , 0.        ],\n",
              "          ...,\n",
              "          [0.        , 0.10955913, 0.34219256, ..., 0.        ,\n",
              "           0.        , 0.        ],\n",
              "          [0.        , 0.10955913, 0.34219256, ..., 0.        ,\n",
              "           0.        , 0.        ],\n",
              "          [0.        , 0.10955913, 0.34219256, ..., 0.        ,\n",
              "           0.        , 0.        ]],\n",
              " \n",
              "         [[0.        , 0.10955913, 0.34219256, ..., 0.        ,\n",
              "           0.        , 0.        ],\n",
              "          [0.        , 0.10955913, 0.34219256, ..., 0.        ,\n",
              "           0.        , 0.        ],\n",
              "          [0.        , 0.10955913, 0.34219256, ..., 0.        ,\n",
              "           0.        , 0.        ],\n",
              "          ...,\n",
              "          [0.        , 0.10955913, 0.34219256, ..., 0.        ,\n",
              "           0.        , 0.        ],\n",
              "          [0.        , 0.10955913, 0.34219256, ..., 0.        ,\n",
              "           0.        , 0.        ],\n",
              "          [0.        , 0.10955913, 0.34219256, ..., 0.        ,\n",
              "           0.        , 0.        ]],\n",
              " \n",
              "         [[0.        , 0.10955913, 0.34219256, ..., 0.        ,\n",
              "           0.        , 0.        ],\n",
              "          [0.        , 0.10955913, 0.34219256, ..., 0.        ,\n",
              "           0.        , 0.        ],\n",
              "          [0.        , 0.10955913, 0.34219256, ..., 0.        ,\n",
              "           0.        , 0.        ],\n",
              "          ...,\n",
              "          [0.        , 0.10955913, 0.34219256, ..., 0.        ,\n",
              "           0.        , 0.        ],\n",
              "          [0.        , 0.10955913, 0.34219256, ..., 0.        ,\n",
              "           0.        , 0.        ],\n",
              "          [0.        , 0.10955913, 0.34219256, ..., 0.        ,\n",
              "           0.        , 0.        ]]]], dtype=float32)>,\n",
              " <tf.Tensor: shape=(1, 121, 121, 32), dtype=float32, numpy=\n",
              " array([[[[0.49031824, 0.27583504, 0.09054437, ..., 0.        ,\n",
              "           0.09227974, 0.2058659 ],\n",
              "          [0.49031824, 0.27583504, 0.09054437, ..., 0.        ,\n",
              "           0.09227974, 0.2058659 ],\n",
              "          [0.49031824, 0.27583504, 0.09054437, ..., 0.        ,\n",
              "           0.09227974, 0.2058659 ],\n",
              "          ...,\n",
              "          [0.49031824, 0.27583504, 0.09054437, ..., 0.        ,\n",
              "           0.09227974, 0.2058659 ],\n",
              "          [0.49031824, 0.27583504, 0.09054437, ..., 0.        ,\n",
              "           0.09227974, 0.2058659 ],\n",
              "          [0.49031824, 0.27583504, 0.09054437, ..., 0.        ,\n",
              "           0.09227974, 0.2058659 ]],\n",
              " \n",
              "         [[0.49031824, 0.27583504, 0.09054437, ..., 0.        ,\n",
              "           0.09227974, 0.2058659 ],\n",
              "          [0.49031824, 0.27583504, 0.09054437, ..., 0.        ,\n",
              "           0.09227974, 0.2058659 ],\n",
              "          [0.49031824, 0.27583504, 0.09054437, ..., 0.        ,\n",
              "           0.09227974, 0.2058659 ],\n",
              "          ...,\n",
              "          [0.49031824, 0.27583504, 0.09054437, ..., 0.        ,\n",
              "           0.09227974, 0.2058659 ],\n",
              "          [0.49031824, 0.27583504, 0.09054437, ..., 0.        ,\n",
              "           0.09227974, 0.2058659 ],\n",
              "          [0.49031824, 0.27583504, 0.09054437, ..., 0.        ,\n",
              "           0.09227974, 0.2058659 ]],\n",
              " \n",
              "         [[0.49031824, 0.27583504, 0.09054437, ..., 0.        ,\n",
              "           0.09227974, 0.2058659 ],\n",
              "          [0.49031824, 0.27583504, 0.09054437, ..., 0.        ,\n",
              "           0.09227974, 0.2058659 ],\n",
              "          [0.49031824, 0.27583504, 0.09054437, ..., 0.        ,\n",
              "           0.09227974, 0.2058659 ],\n",
              "          ...,\n",
              "          [0.49031824, 0.27583504, 0.09054437, ..., 0.        ,\n",
              "           0.09227974, 0.2058659 ],\n",
              "          [0.49031824, 0.27583504, 0.09054437, ..., 0.        ,\n",
              "           0.09227974, 0.2058659 ],\n",
              "          [0.49031824, 0.27583504, 0.09054437, ..., 0.        ,\n",
              "           0.09227974, 0.2058659 ]],\n",
              " \n",
              "         ...,\n",
              " \n",
              "         [[0.49031824, 0.27583504, 0.09054437, ..., 0.        ,\n",
              "           0.09227974, 0.2058659 ],\n",
              "          [0.49031824, 0.27583504, 0.09054437, ..., 0.        ,\n",
              "           0.09227974, 0.2058659 ],\n",
              "          [0.49031824, 0.27583504, 0.09054437, ..., 0.        ,\n",
              "           0.09227974, 0.2058659 ],\n",
              "          ...,\n",
              "          [0.49031824, 0.27583504, 0.09054437, ..., 0.        ,\n",
              "           0.09227974, 0.2058659 ],\n",
              "          [0.49031824, 0.27583504, 0.09054437, ..., 0.        ,\n",
              "           0.09227974, 0.2058659 ],\n",
              "          [0.49031824, 0.27583504, 0.09054437, ..., 0.        ,\n",
              "           0.09227974, 0.2058659 ]],\n",
              " \n",
              "         [[0.49031824, 0.27583504, 0.09054437, ..., 0.        ,\n",
              "           0.09227974, 0.2058659 ],\n",
              "          [0.49031824, 0.27583504, 0.09054437, ..., 0.        ,\n",
              "           0.09227974, 0.2058659 ],\n",
              "          [0.49031824, 0.27583504, 0.09054437, ..., 0.        ,\n",
              "           0.09227974, 0.2058659 ],\n",
              "          ...,\n",
              "          [0.49031824, 0.27583504, 0.09054437, ..., 0.        ,\n",
              "           0.09227974, 0.2058659 ],\n",
              "          [0.49031824, 0.27583504, 0.09054437, ..., 0.        ,\n",
              "           0.09227974, 0.2058659 ],\n",
              "          [0.49031824, 0.27583504, 0.09054437, ..., 0.        ,\n",
              "           0.09227974, 0.2058659 ]],\n",
              " \n",
              "         [[0.49031824, 0.27583504, 0.09054437, ..., 0.        ,\n",
              "           0.09227974, 0.2058659 ],\n",
              "          [0.49031824, 0.27583504, 0.09054437, ..., 0.        ,\n",
              "           0.09227974, 0.2058659 ],\n",
              "          [0.49031824, 0.27583504, 0.09054437, ..., 0.        ,\n",
              "           0.09227974, 0.2058659 ],\n",
              "          ...,\n",
              "          [0.49031824, 0.27583504, 0.09054437, ..., 0.        ,\n",
              "           0.09227974, 0.2058659 ],\n",
              "          [0.49031824, 0.27583504, 0.09054437, ..., 0.        ,\n",
              "           0.09227974, 0.2058659 ],\n",
              "          [0.49031824, 0.27583504, 0.09054437, ..., 0.        ,\n",
              "           0.09227974, 0.2058659 ]]]], dtype=float32)>,\n",
              " <tf.Tensor: shape=(1, 119, 119, 32), dtype=float32, numpy=\n",
              " array([[[[0.17829195, 0.        , 0.0402196 , ..., 0.        ,\n",
              "           0.16173525, 0.        ],\n",
              "          [0.17829195, 0.        , 0.0402196 , ..., 0.        ,\n",
              "           0.16173525, 0.        ],\n",
              "          [0.17829195, 0.        , 0.0402196 , ..., 0.        ,\n",
              "           0.16173525, 0.        ],\n",
              "          ...,\n",
              "          [0.17829195, 0.        , 0.0402196 , ..., 0.        ,\n",
              "           0.16173525, 0.        ],\n",
              "          [0.17829195, 0.        , 0.0402196 , ..., 0.        ,\n",
              "           0.16173525, 0.        ],\n",
              "          [0.17829195, 0.        , 0.0402196 , ..., 0.        ,\n",
              "           0.16173525, 0.        ]],\n",
              " \n",
              "         [[0.17829195, 0.        , 0.0402196 , ..., 0.        ,\n",
              "           0.16173525, 0.        ],\n",
              "          [0.17829195, 0.        , 0.0402196 , ..., 0.        ,\n",
              "           0.16173525, 0.        ],\n",
              "          [0.17829195, 0.        , 0.0402196 , ..., 0.        ,\n",
              "           0.16173525, 0.        ],\n",
              "          ...,\n",
              "          [0.17829195, 0.        , 0.0402196 , ..., 0.        ,\n",
              "           0.16173525, 0.        ],\n",
              "          [0.17829195, 0.        , 0.0402196 , ..., 0.        ,\n",
              "           0.16173525, 0.        ],\n",
              "          [0.17829195, 0.        , 0.0402196 , ..., 0.        ,\n",
              "           0.16173525, 0.        ]],\n",
              " \n",
              "         [[0.17829195, 0.        , 0.0402196 , ..., 0.        ,\n",
              "           0.16173525, 0.        ],\n",
              "          [0.17829195, 0.        , 0.0402196 , ..., 0.        ,\n",
              "           0.16173525, 0.        ],\n",
              "          [0.17829195, 0.        , 0.0402196 , ..., 0.        ,\n",
              "           0.16173525, 0.        ],\n",
              "          ...,\n",
              "          [0.17829195, 0.        , 0.0402196 , ..., 0.        ,\n",
              "           0.16173525, 0.        ],\n",
              "          [0.17829195, 0.        , 0.0402196 , ..., 0.        ,\n",
              "           0.16173525, 0.        ],\n",
              "          [0.17829195, 0.        , 0.0402196 , ..., 0.        ,\n",
              "           0.16173525, 0.        ]],\n",
              " \n",
              "         ...,\n",
              " \n",
              "         [[0.17829195, 0.        , 0.0402196 , ..., 0.        ,\n",
              "           0.16173525, 0.        ],\n",
              "          [0.17829195, 0.        , 0.0402196 , ..., 0.        ,\n",
              "           0.16173525, 0.        ],\n",
              "          [0.17829195, 0.        , 0.0402196 , ..., 0.        ,\n",
              "           0.16173525, 0.        ],\n",
              "          ...,\n",
              "          [0.17829195, 0.        , 0.0402196 , ..., 0.        ,\n",
              "           0.16173525, 0.        ],\n",
              "          [0.17829195, 0.        , 0.0402196 , ..., 0.        ,\n",
              "           0.16173525, 0.        ],\n",
              "          [0.17829195, 0.        , 0.0402196 , ..., 0.        ,\n",
              "           0.16173525, 0.        ]],\n",
              " \n",
              "         [[0.17829195, 0.        , 0.0402196 , ..., 0.        ,\n",
              "           0.16173525, 0.        ],\n",
              "          [0.17829195, 0.        , 0.0402196 , ..., 0.        ,\n",
              "           0.16173525, 0.        ],\n",
              "          [0.17829195, 0.        , 0.0402196 , ..., 0.        ,\n",
              "           0.16173525, 0.        ],\n",
              "          ...,\n",
              "          [0.17829195, 0.        , 0.0402196 , ..., 0.        ,\n",
              "           0.16173525, 0.        ],\n",
              "          [0.17829195, 0.        , 0.0402196 , ..., 0.        ,\n",
              "           0.16173525, 0.        ],\n",
              "          [0.17829195, 0.        , 0.0402196 , ..., 0.        ,\n",
              "           0.16173525, 0.        ]],\n",
              " \n",
              "         [[0.17829195, 0.        , 0.0402196 , ..., 0.        ,\n",
              "           0.16173525, 0.        ],\n",
              "          [0.17829195, 0.        , 0.0402196 , ..., 0.        ,\n",
              "           0.16173525, 0.        ],\n",
              "          [0.17829195, 0.        , 0.0402196 , ..., 0.        ,\n",
              "           0.16173525, 0.        ],\n",
              "          ...,\n",
              "          [0.17829195, 0.        , 0.0402196 , ..., 0.        ,\n",
              "           0.16173525, 0.        ],\n",
              "          [0.17829195, 0.        , 0.0402196 , ..., 0.        ,\n",
              "           0.16173525, 0.        ],\n",
              "          [0.17829195, 0.        , 0.0402196 , ..., 0.        ,\n",
              "           0.16173525, 0.        ]]]], dtype=float32)>]"
            ]
          },
          "metadata": {},
          "execution_count": 6
        }
      ],
      "source": [
        "initial_model = keras.Sequential(\n",
        "    [\n",
        "        keras.Input(shape=(250, 250, 3)),\n",
        "        layers.Conv2D(32, 5, strides=2, activation=\"relu\"),\n",
        "        layers.Conv2D(32, 3, activation=\"relu\"),\n",
        "        layers.Conv2D(32, 3, activation=\"relu\"),\n",
        "    ]\n",
        ")\n",
        "feature_extractor = keras.Model(\n",
        "    inputs=initial_model.inputs,\n",
        "    outputs=[layer.output for layer in initial_model.layers],\n",
        ")\n",
        "\n",
        "# Call feature extractor on test input.\n",
        "x = ops.ones((1, 250, 250, 3))\n",
        "features = feature_extractor(x)\n",
        "features"
      ]
    },
    {
      "cell_type": "code",
      "source": [
        "\n"
      ],
      "metadata": {
        "id": "S-tUmkNDhIdT",
        "outputId": "92d096b1-167c-4ceb-999f-b1ce76293325",
        "colab": {
          "base_uri": "https://localhost:8080/",
          "height": 141
        }
      },
      "execution_count": 4,
      "outputs": [
        {
          "output_type": "error",
          "ename": "AttributeError",
          "evalue": "'list' object has no attribute 'inputs'",
          "traceback": [
            "\u001b[0;31m---------------------------------------------------------------------------\u001b[0m",
            "\u001b[0;31mAttributeError\u001b[0m                            Traceback (most recent call last)",
            "\u001b[0;32m<ipython-input-4-0f62b05d372a>\u001b[0m in \u001b[0;36m<cell line: 1>\u001b[0;34m()\u001b[0m\n\u001b[0;32m----> 1\u001b[0;31m \u001b[0mfeatures\u001b[0m\u001b[0;34m.\u001b[0m\u001b[0minputs\u001b[0m\u001b[0;34m\u001b[0m\u001b[0;34m\u001b[0m\u001b[0m\n\u001b[0m",
            "\u001b[0;31mAttributeError\u001b[0m: 'list' object has no attribute 'inputs'"
          ]
        }
      ]
    },
    {
      "cell_type": "markdown",
      "metadata": {
        "id": "mv2CkjPpgbNF"
      },
      "source": [
        "Here's a similar example that only extract features from one layer:"
      ]
    },
    {
      "cell_type": "code",
      "execution_count": null,
      "metadata": {
        "id": "8ocI1UnGgbNG"
      },
      "outputs": [],
      "source": [
        "initial_model = keras.Sequential(\n",
        "    [\n",
        "        keras.Input(shape=(250, 250, 3)),\n",
        "        layers.Conv2D(32, 5, strides=2, activation=\"relu\"),\n",
        "        layers.Conv2D(32, 3, activation=\"relu\", name=\"my_intermediate_layer\"),\n",
        "        layers.Conv2D(32, 3, activation=\"relu\"),\n",
        "    ]\n",
        ")\n",
        "feature_extractor = keras.Model(\n",
        "    inputs=initial_model.inputs,\n",
        "    outputs=initial_model.get_layer(name=\"my_intermediate_layer\").output,\n",
        ")\n",
        "# Call feature extractor on test input.\n",
        "x = ops.ones((1, 250, 250, 3))\n",
        "features = feature_extractor(x)"
      ]
    },
    {
      "cell_type": "markdown",
      "metadata": {
        "id": "mHEzypq-gbNR"
      },
      "source": [
        "## Transfer learning with a Sequential model\n",
        "\n",
        "Transfer learning consists of freezing the bottom layers in a model and only training\n",
        "the top layers. If you aren't familiar with it, make sure to read our [guide\n",
        "to transfer learning](/guides/transfer_learning/).\n",
        "\n",
        "Here are two common transfer learning blueprint involving Sequential models.\n",
        "\n",
        "First, let's say that you have a Sequential model, and you want to freeze all\n",
        "layers except the last one. In this case, you would simply iterate over\n",
        "`model.layers` and set `layer.trainable = False` on each layer, except the\n",
        "last one. Like this:\n",
        "\n",
        "```python\n",
        "model = keras.Sequential([\n",
        "    keras.Input(shape=(784)),\n",
        "    layers.Dense(32, activation='relu'),\n",
        "    layers.Dense(32, activation='relu'),\n",
        "    layers.Dense(32, activation='relu'),\n",
        "    layers.Dense(10),\n",
        "])\n",
        "\n",
        "# Presumably you would want to first load pre-trained weights.\n",
        "model.load_weights(...)\n",
        "\n",
        "# Freeze all layers except the last one.\n",
        "for layer in model.layers[:-1]:\n",
        "  layer.trainable = False\n",
        "\n",
        "# Recompile and train (this will only update the weights of the last layer).\n",
        "model.compile(...)\n",
        "model.fit(...)\n",
        "```\n",
        "\n",
        "Another common blueprint is to use a Sequential model to stack a pre-trained\n",
        "model and some freshly initialized classification layers. Like this:\n",
        "\n",
        "```python\n",
        "# Load a convolutional base with pre-trained weights\n",
        "base_model = keras.applications.Xception(\n",
        "    weights='imagenet',\n",
        "    include_top=False,\n",
        "    pooling='avg')\n",
        "\n",
        "# Freeze the base model\n",
        "base_model.trainable = False\n",
        "\n",
        "# Use a Sequential model to add a trainable classifier on top\n",
        "model = keras.Sequential([\n",
        "    base_model,\n",
        "    layers.Dense(1000),\n",
        "])\n",
        "\n",
        "# Compile & train\n",
        "model.compile(...)\n",
        "model.fit(...)\n",
        "```\n",
        "\n",
        "If you do transfer learning, you will probably find yourself frequently using\n",
        "these two patterns."
      ]
    },
    {
      "cell_type": "markdown",
      "metadata": {
        "id": "bRp5KKMBgbNU"
      },
      "source": [
        "That's about all you need to know about Sequential models!\n",
        "\n",
        "To find out more about building models in Keras, see:\n",
        "\n",
        "- [Guide to the Functional API](/guides/functional_api/)\n",
        "- [Guide to making new Layers & Models via subclassing](/guides/making_new_layers_and_models_via_subclassing/)"
      ]
    }
  ],
  "metadata": {
    "accelerator": "GPU",
    "colab": {
      "name": "sequential_model",
      "provenance": [],
      "toc_visible": true,
      "include_colab_link": true
    },
    "kernelspec": {
      "display_name": "Python 3",
      "language": "python",
      "name": "python3"
    },
    "language_info": {
      "codemirror_mode": {
        "name": "ipython",
        "version": 3
      },
      "file_extension": ".py",
      "mimetype": "text/x-python",
      "name": "python",
      "nbconvert_exporter": "python",
      "pygments_lexer": "ipython3",
      "version": "3.7.0"
    }
  },
  "nbformat": 4,
  "nbformat_minor": 0
}